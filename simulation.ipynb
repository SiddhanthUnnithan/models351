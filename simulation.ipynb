{
 "cells": [
  {
   "cell_type": "code",
   "execution_count": 4,
   "metadata": {
    "collapsed": false
   },
   "outputs": [],
   "source": [
    "from __future__ import division\n",
    "import numpy as np\n",
    "from scipy.integrate import odeint"
   ]
  },
  {
   "cell_type": "code",
   "execution_count": 10,
   "metadata": {
    "collapsed": false
   },
   "outputs": [
    {
     "name": "stdout",
     "output_type": "stream",
     "text": [
      "[  5.00000000e+00   6.87162781e+00   9.62024723e+00   1.35562740e+01\n",
      "   1.90999975e+01   2.68204710e+01   3.74881667e+01   5.21462706e+01\n",
      "   7.22072095e+01   9.95833467e+01   1.36863937e+02   1.87554715e+02\n",
      "   2.56402291e+02   3.49833365e+02   4.76549399e+02   6.48331788e+02\n",
      "   8.81132018e+02   1.19654769e+03   1.62382099e+03   2.20254454e+03\n",
      "   2.98632499e+03   4.04774337e+03   5.48507113e+03   7.43136348e+03\n",
      "   1.00667712e+04   1.36352106e+04   1.84669331e+04   2.50090850e+04\n",
      "   3.38670820e+04   4.58606303e+04   6.20995755e+04   8.40865992e+04\n",
      "   1.13856265e+05   1.54163283e+05   2.08737406e+05   2.82628554e+05\n",
      "   3.82674095e+05   5.18131520e+05   7.01535060e+05   9.49855506e+05\n",
      "   1.28607055e+06   1.74129098e+06   2.35763940e+06   3.19214794e+06\n",
      "   4.32203558e+06   5.85185339e+06   7.92315884e+06   1.07276145e+07\n",
      "   1.45247228e+07   1.96658387e+07   2.66266810e+07   3.60513520e+07\n",
      "   4.88119374e+07   6.60892023e+07   8.94818504e+07   1.21154455e+08\n",
      "   1.64037753e+08   2.22099829e+08   3.00713298e+08   4.07152436e+08\n",
      "   5.51266293e+08   7.46390042e+08   1.01057892e+09   1.36827889e+09\n",
      "   1.85258875e+09   2.50832273e+09   3.39615737e+09   4.59824597e+09\n",
      "   6.22582043e+09   8.42948382e+09   1.14131460e+10   1.54528918e+10\n",
      "   2.09225279e+10   2.83281717e+10   3.83550838e+10   5.19310767e+10\n",
      "   7.03123669e+10   9.51998159e+10   1.28896314e+11   1.74519874e+11\n",
      "   2.36292143e+11   3.19929046e+11   4.33169691e+11   5.86492486e+11\n",
      "   7.94084726e+11   1.07515538e+12   1.45571254e+12   1.97097000e+12\n",
      "   2.66860568e+12   3.61317333e+12   4.89207590e+12   6.62365307e+12\n",
      "   8.96813150e+12   1.21424510e+13   1.64403383e+13   2.22594864e+13\n",
      "   3.01383540e+13   4.08059902e+13   5.52494948e+13   7.48053574e+13]\n"
     ]
    },
    {
     "data": {
      "image/png": "[encoded data removed]",
      "text/plain": [
       "<matplotlib.figure.Figure at 0x104ca3c90>"
      ]
     },
     "metadata": {},
     "output_type": "display_data"
    }
   ],
   "source": [
    "def test_torque(t):\n",
    "    return t*2\n",
    "\n",
    "def test_model(y, t):\n",
    "    dy = y[0] + test_torque(t)\n",
    "    return [dy]\n",
    "\n",
    "t = np.linspace(0.0, 30.0, 100)\n",
    "y_init = np.array([5.0])\n",
    "y = odeint(test_model, y_init, t)\n",
    "\n",
    "print y[:, 0]\n",
    "\n",
    "plot.plot(t, y[:,0], label=\"test\")\n",
    "plot.xlabel(\"t\")\n",
    "plot.ylabel(\"arbitrary function\")\n",
    "plot.legend()\n",
    "plot.show()"
   ]
  },
  {
   "cell_type": "code",
   "execution_count": 9,
   "metadata": {
    "collapsed": false
   },
   "outputs": [
    {
     "ename": "SyntaxError",
     "evalue": "invalid syntax (<ipython-input-9-5cc3f9fd1a1d>, line 2)",
     "output_type": "error",
     "traceback": [
      "\u001b[0;36m  File \u001b[0;32m\"<ipython-input-9-5cc3f9fd1a1d>\"\u001b[0;36m, line \u001b[0;32m2\u001b[0m\n\u001b[0;31m    wheel_radius = # m\u001b[0m\n\u001b[0m                       ^\u001b[0m\n\u001b[0;31mSyntaxError\u001b[0m\u001b[0;31m:\u001b[0m invalid syntax\n"
     ]
    }
   ],
   "source": [
    "# CONSTANTS\n",
    "wheel_radius = # m \n",
    "cart_mass = # kg\n",
    "spring_const = # N/m => kg/s^2\n",
    "inertial_mass = # (is this moment of inertia)\n",
    "mag_mass = # kg\n",
    "pin_dist = # m - distance from center of wheel to rigid arm pin\n",
    "ra_length = # m - length of the rigid arm\n",
    "rail_height = # m - vertical distance from the rail to the center of the wheel\n",
    "\n",
    "# MMF specifics\n",
    "b0 = \n",
    "u0 = \n",
    "mag_length = \n",
    "mag_radius = \n",
    "pole_area = \n",
    "mag2_dist = # m - horizontal distance from center of wheel to second magnet\n",
    "perm =\n",
    "\n",
    "# INPUT FUNCTIONS\n",
    "def input_torque(t):\n",
    "    \"\"\"\n",
    "        input torque as a function of time.\n",
    "    \n",
    "        Parameters\n",
    "        ----------\n",
    "        t : {numpy array}\n",
    "            timeseries with appropriate range\n",
    "    \"\"\"\n",
    "    # TODO : define an equation for the input torque\n",
    "    \n",
    "    return 1.0\n",
    "\n",
    "def mag_force(theta):\n",
    "    \"\"\"\n",
    "        repelling force as a function of distance between the two magnets.\n",
    "        distance between magnets is function of theta.\n",
    "        \n",
    "        Parameters\n",
    "        ----------\n",
    "        theta : {numpy.array}\n",
    "    \"\"\"\n",
    "    # compute L - distance from the center of the wheel to the magnet\n",
    "    center_dist = pin_dist * np.cos(theta) + \\\n",
    "        np.sqrt(ra_length**2 - (rail_height + pin_dist * np.sin(theta)))\n",
    "        \n",
    "    # separation between magnets\n",
    "    sep = mag2_dist - center_dist\n",
    "        \n",
    "    # TODO: compute magnetomotive force\n",
    "    \n",
    "    # magnetomotive force - assumes cylindrical bar magnets\n",
    "    force = ((b0**2 * pole_area**2 * (mag_length**2 + mag_radius**2))/(np.pi*perm * mag_length**2)) * \\\n",
    "        (1/sep**2 + 1/(sep + 2*mag_length)**2 - 2/(sep + mag_length)**2)\n",
    "    \n",
    "    return force\n",
    "\n",
    "# SIMULATION\n",
    "def model_1(y, t):\n",
    "    \"\"\"\n",
    "        generate series of RHS equations from system 1 to be passed\n",
    "        into solver.\n",
    "        \n",
    "        Parameters\n",
    "        ----------\n",
    "        y : {numpy.array}\n",
    "            initial conditions for system\n",
    "        \n",
    "        t : {numpy.array}\n",
    "            timeseries with appropriate range\n",
    "    \"\"\"\n",
    "    p2 = y[0]\n",
    "    \n",
    "    dp2 = input_torque(t) / (1 + (R**2)*mag1_mass/intertial_mass)\n",
    "    dtheta = p2/inertial_mass\n",
    "    \n",
    "    return [dp2, dtheta]\n",
    "    \n",
    "def model_2(y, t):\n",
    "    \"\"\"\n",
    "        generate series of RHS equations from system 2 to be passed\n",
    "        into solver.\n",
    "\n",
    "        Parameters\n",
    "        ----------\n",
    "        y : {numpy.array}\n",
    "            initial conditions for system\n",
    "\n",
    "        t : {numpy.array}\n",
    "            timeseries with appropriate range\n",
    "    \"\"\"\n",
    "    q8 = y[0]\n",
    "    p7 = y[1]\n",
    "    theta = y[2]\n",
    "    \n",
    "    dp7 = (mag_force(theta) * q8/spring_const)/(1 + mag2_mass/cart_mass)\n",
    "    dq8 = p7/cart_mass\n",
    "\n",
    "    return [dp7, dq8]\n",
    "\n",
    "# initial conditions\n",
    "p2_0 = # angular momentum (2)\n",
    "q8_0 = # spring displacement (8)\n",
    "p7_0 = # momentum (7)\n",
    "\n",
    "time = np.linspace(0.0, 30.0, 100) # 100 points between 0 and 30 seconds\n",
    "\n",
    "\"\"\"\n",
    "    We compute angular momentum and theta first as we've split the two\n",
    "    systems and because the magnetomotive repelling force is a function\n",
    "    of theta.\n",
    "\"\"\"\n",
    "y_init_1 = np.array([p2_0])\n",
    "\n",
    "# angular momentum and theta\n",
    "y1 = odeint(model_1, y_init_1, time)\n",
    "\n",
    "p2 = y1[:,0]\n",
    "\n",
    "theta = y1[:,1]\n",
    "\n",
    "y_init_2 = np.array([q8_0, p7_0, theta])\n",
    "\n",
    "# spring displacement and cart momentum\n",
    "y2 = odeint(model_2, y_init_2, time)\n",
    "\n",
    "# TODO: PLOT"
   ]
  },
  {
   "cell_type": "code",
   "execution_count": null,
   "metadata": {
    "collapsed": true
   },
   "outputs": [],
   "source": []
  }
 ],
 "metadata": {
  "kernelspec": {
   "display_name": "Python 2",
   "language": "python",
   "name": "python2"
  },
  "language_info": {
   "codemirror_mode": {
    "name": "ipython",
    "version": 2
   },
   "file_extension": ".py",
   "mimetype": "text/x-python",
   "name": "python",
   "nbconvert_exporter": "python",
   "pygments_lexer": "ipython2",
   "version": "2.7.10"
  }
 },
 "nbformat": 4,
 "nbformat_minor": 0
}
