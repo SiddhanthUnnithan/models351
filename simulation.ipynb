{
 "cells": [
  {
   "cell_type": "code",
   "execution_count": 2,
   "metadata": {
    "collapsed": false
   },
   "outputs": [],
   "source": [
    "from __future__ import division\n",
    "import numpy as np\n",
    "from scipy.integrate import odeint"
   ]
  },
  {
   "cell_type": "code",
   "execution_count": 3,
   "metadata": {
    "collapsed": true
   },
   "outputs": [],
   "source": [
    "def test_torque(t):\n",
    "    return t*2\n",
    "\n",
    "def test_model(y, t):\n",
    "    dy = y[0] + test_torque(t)\n",
    "    return [dy]\n",
    "\n",
    "t = np.linspace(0.0, 30.0, 100)\n",
    "y_init = np.array([5.0])\n",
    "y = odeint(test_model, y_init, t)"
   ]
  },
  {
   "cell_type": "code",
   "execution_count": 9,
   "metadata": {
    "collapsed": false
   },
   "outputs": [
    {
     "ename": "SyntaxError",
     "evalue": "invalid syntax (<ipython-input-9-5cc3f9fd1a1d>, line 2)",
     "output_type": "error",
     "traceback": [
      "\u001b[0;36m  File \u001b[0;32m\"<ipython-input-9-5cc3f9fd1a1d>\"\u001b[0;36m, line \u001b[0;32m2\u001b[0m\n\u001b[0;31m    wheel_radius = # m\u001b[0m\n\u001b[0m                       ^\u001b[0m\n\u001b[0;31mSyntaxError\u001b[0m\u001b[0;31m:\u001b[0m invalid syntax\n"
     ]
    }
   ],
   "source": [
    "# CONSTANTS\n",
    "wheel_radius = # m \n",
    "cart_mass = # kg\n",
    "mag1_mass = # kg - mass of the magnet in sys 1\n",
    "mag2_mass = # kg - mass of the magnet in sys 2\n",
    "spring_const = # N/m => kg/s^2\n",
    "inertial_mass = # (is this moment of inertia)\n",
    "pin_dist = # m - distance from center of wheel to rigid arm pin\n",
    "ra_length = # m - length of the rigid arm\n",
    "rail_height = # m - vertical distance from the rail to the center of the wheel\n",
    "\n",
    "# INPUT FUNCTIONS\n",
    "def input_torque(t):\n",
    "    \"\"\"\n",
    "        input torque as a function of time.\n",
    "    \n",
    "        Parameters\n",
    "        ----------\n",
    "        t : {numpy array}\n",
    "            timeseries with appropriate range\n",
    "    \"\"\"\n",
    "    # TODO : define an equation for the input torque\n",
    "    \n",
    "    return 1.0\n",
    "\n",
    "def mag_force(theta):\n",
    "    \"\"\"\n",
    "        repelling force as a function of distance between the two magnets.\n",
    "        distance between magnets is function of theta.\n",
    "        \n",
    "        Parameters\n",
    "        ----------\n",
    "        theta : {numpy.array}\n",
    "    \"\"\"\n",
    "    # compute L - distance from the center of the wheel to the magnet\n",
    "    center_dist = pin_dist * np.cos(theta) + \\\n",
    "        np.sqrt(ra_length**2 - (rail_height + pin_dist * np.sin(theta)))\n",
    "    \n",
    "    # TODO: compute magnetomotive force\n",
    "    \n",
    "    return 1.0\n",
    "\n",
    "# SIMULATION\n",
    "def model_1(y, t):\n",
    "    \"\"\"\n",
    "        generate series of RHS equations from system 1 to be passed\n",
    "        into solver.\n",
    "        \n",
    "        Parameters\n",
    "        ----------\n",
    "        y : {numpy.array}\n",
    "            initial conditions for system\n",
    "        \n",
    "        t : {numpy.array}\n",
    "            timeseries with appropriate range\n",
    "    \"\"\"\n",
    "    p2 = y[0]\n",
    "    \n",
    "    dp2 = input_torque(t) / (1 + (R**2)*mag1_mass/intertial_mass)\n",
    "    dtheta = p2/inertial_mass\n",
    "    \n",
    "    return [dp2, dtheta]\n",
    "    \n",
    "def model_2(y, t):\n",
    "    \"\"\"\n",
    "        generate series of RHS equations from system 2 to be passed\n",
    "        into solver.\n",
    "\n",
    "        Parameters\n",
    "        ----------\n",
    "        y : {numpy.array}\n",
    "            initial conditions for system\n",
    "\n",
    "        t : {numpy.array}\n",
    "            timeseries with appropriate range\n",
    "    \"\"\"\n",
    "    q8 = y[0]\n",
    "    p7 = y[1]\n",
    "    theta = y[2]\n",
    "    \n",
    "    dp7 = (mag_force(theta) * q8/spring_const)/(1 + mag2_mass/cart_mass)\n",
    "    dq8 = p7/cart_mass\n",
    "\n",
    "    return [dp7, dq8]\n",
    "\n",
    "# initial conditions\n",
    "p2_0 = # angular momentum (2)\n",
    "q8_0 = # spring displacement (8)\n",
    "p7_0 = # momentum (7)\n",
    "\n",
    "time = np.linspace(0.0, 30, 100) # 100 points between 0 and 30 seconds\n",
    "\n",
    "\"\"\"\n",
    "    We compute angular momentum and theta first as we've split the two\n",
    "    systems and because the magnetomotive repelling force is a function\n",
    "    of theta.\n",
    "\"\"\"\n",
    "y_init_1 = np.array([p2_0])\n",
    "\n",
    "# angular momentum and theta\n",
    "y1 = odeint(model_1, y_init_1, time)\n",
    "\n",
    "p2 = y1[:,0]\n",
    "\n",
    "theta = y1[:, 1]\n",
    "\n",
    "y_init_2 = np.array([q8_0, p7_0, theta])\n",
    "\n",
    "# spring displacement and cart momentum\n",
    "y2 = odeint(model_2, y_init_2, time)\n",
    "\n",
    "# TODO: PLOT"
   ]
  },
  {
   "cell_type": "code",
   "execution_count": null,
   "metadata": {
    "collapsed": true
   },
   "outputs": [],
   "source": []
  }
 ],
 "metadata": {
  "kernelspec": {
   "display_name": "Python 2",
   "language": "python",
   "name": "python2"
  },
  "language_info": {
   "codemirror_mode": {
    "name": "ipython",
    "version": 2
   },
   "file_extension": ".py",
   "mimetype": "text/x-python",
   "name": "python",
   "nbconvert_exporter": "python",
   "pygments_lexer": "ipython2",
   "version": "2.7.10"
  }
 },
 "nbformat": 4,
 "nbformat_minor": 0
}
